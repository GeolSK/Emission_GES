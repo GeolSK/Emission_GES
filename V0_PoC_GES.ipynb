{
 "cells": [
  {
   "cell_type": "markdown",
   "metadata": {},
   "source": [
    "![LogoAdway](https://www.square-management.com/wp-content/uploads/2021/10/adway-logo-header.svg) \n ",
    "<hr style = \"border-width:2px;border-color:#75DFC1\">\n",
    "# &#128736; Estimation des émissions GES (Gaz à Effet de Serre) &#128736; \n",
    "<hr style = \"border-width:2px;border-color:#75DFC1\">"
   ]
  },
  {
   "cell_type": "markdown",
   "metadata": {},
   "source": [
    "By SKORUPA KONRAD - konrad.skorupa@adway-conseil.com\n",
    "<br>\n"
   ]
  },
  {
   "cell_type": "markdown",
   "metadata": {},
   "source": [
    " ## A. INTRODUCTION - Import Packages  &#127793; \n",
    "<br>"
   ]
  },
  {
   "cell_type": "code",
   "execution_count": 1,
   "metadata": {},
   "outputs": [],
   "source": [
    "#classiques\n",
    "import numpy as np\n",
    "import pandas as pd\n",
    "import json\n",
    "\n",
    "#graphiques\n",
    "%matplotlib inline\n",
    "import matplotlib.pyplot as plt\n",
    "import seaborn as sns\n",
    "from matplotlib.ticker import ScalarFormatter, FormatStrFormatter \n",
    "#autres\n",
    "\n",
    "#qui permet de facilement transformer les variable cara en numérique\n",
    "from sklearn.preprocessing import LabelEncoder\n",
    "\n",
    "#calculer les differents metrics pour comparaison des modèles\n",
    "from sklearn import metrics\n",
    "\n",
    "from scipy import stats\n",
    "from scipy.stats import kruskal\n",
    "from sklearn.model_selection import train_test_split\n",
    "from sklearn.linear_model import LinearRegression\n",
    "from sklearn import linear_model\n",
    "\n",
    "import statsmodels.api as sm\n",
    "\n",
    "#regular expressions\n",
    "import re\n",
    "\n",
    "#Afficher toutes les colonnes\n",
    "pd.set_option('display.max_colwidth', None)"
   ]
  },
  {
   "cell_type": "markdown",
   "metadata": {},
   "source": [
    "<hr style = \"border-width:2px;border-color:#c7cf00\">\n",
    "## A. INTRODUCTION - Présentation du sujet  &#128154; \n",
    "<hr style = \"border-width:2px;border-color:#c7cf00\">\n",
    "<br>"
   ]
  },

  {
   "cell_type": "markdown",
   "metadata": {},
   "source": [
    "<div class=\"alert alert-info\" role=\"alert\">\n",
    "Sites Internet : \n",
    "<br>\n",
    "<br>\n",
    "[ADEME-GES](https://www.bilans-ges.ademe.fr/fr/accueil/contenu/index/page/categorie/siGras/0/) \n",
    "<br>\n",
    "<br>\n",
    "[Infos règlementaire sur les GES](https://www.bilans-ges.ademe.fr/fr/accueil/contenu/index/page/art75/siGras/0/) \n",
    "<br>\n"
   ]
  },
  {
   "cell_type": "markdown",
   "metadata": {},
   "source": [
    "### 2. Définition du sujet d'étude - GES \n"
   ]
  },
   {
   "cell_type": "markdown",
   "metadata": {},
   "source": [
    "<div class=\"alert alert-info\" role=\"alert\">\n",
    "<p> Le fait de spliter la somme des SCOPE 1 et SCOPE 2 ne permet pas d'améliorer le modèle BASELINE, au contraire nous régressons en terme du R2 et des metrics tel que MAPE. Les résultats peuvent être améliorer en ajoutant d'autres variables dans le modèle ainsi notre modèle gagnera en efficacité, en pertinence... "
   ]
  }
 ],
 
 "metadata": {
  "kernelspec": {
   "display_name": "Python 3",
   "language": "python",
   "name": "python3"
  },
  "language_info": {
   "codemirror_mode": {
    "name": "ipython",
    "version": 3
   },
   "file_extension": ".py",
   "mimetype": "text/x-python",
   "name": "python",
   "nbconvert_exporter": "python",
   "pygments_lexer": "ipython3",
   "version": "3.8.3"
  }
 },
 "nbformat": 4,
 "nbformat_minor": 4
}
